{
 "cells": [
  {
   "cell_type": "code",
   "execution_count": 1,
   "id": "e2a6bf1c-9609-4203-b696-e0145cfda158",
   "metadata": {},
   "outputs": [
    {
     "name": "stdout",
     "output_type": "stream",
     "text": [
      "[1, 2, 3, 4, 5, 5]\n"
     ]
    }
   ],
   "source": [
    "# Create a list\n",
    "my_list = [1, 2, 3, 4, 5, 5]\n",
    "print(my_list)"
   ]
  },
  {
   "cell_type": "code",
   "execution_count": 2,
   "id": "0be94099-bc24-474b-828b-635042c622d3",
   "metadata": {},
   "outputs": [
    {
     "name": "stdout",
     "output_type": "stream",
     "text": [
      "4\n",
      "5\n"
     ]
    }
   ],
   "source": [
    "# Access the list\n",
    "print(my_list[3])  # Get the 4th item (index starts at 0)\n",
    "print(my_list[5])  # Get the last item (5)"
   ]
  },
  {
   "cell_type": "code",
   "execution_count": 3,
   "id": "0b472d82-587d-4bf2-9987-c52cfe68fa7b",
   "metadata": {},
   "outputs": [
    {
     "name": "stdout",
     "output_type": "stream",
     "text": [
      "[4, 5, 5]\n",
      "[1, 2]\n",
      "[1, 2, 3, 4, 5, 5]\n",
      "[]\n"
     ]
    }
   ],
   "source": [
    "# Slicing\n",
    "print(my_list[3:6]) # From index 3 to 5\n",
    "print(my_list[:-4]) # From start up to index -4\n",
    "print(my_list[-6:]) # Everything from the first element to the end\n",
    "print(my_list[:-6]) # From start up to index -6"
   ]
  },
  {
   "cell_type": "code",
   "execution_count": 4,
   "id": "6008a456-f481-4e08-b7d4-31b8a0f9d1aa",
   "metadata": {},
   "outputs": [
    {
     "name": "stdout",
     "output_type": "stream",
     "text": [
      "[1, 2, 3, 4, 5, 5, 6]\n",
      "[1, 2, 3, 4, 5, 5, 6, 7, 8, 9]\n",
      "[1, 2, 3, 4, 5, 5, 99, 6, 7, 8, 9]\n",
      "[1, 2, 3, 4, 5, 100, 99, 6, 7, 8, 9]\n"
     ]
    }
   ],
   "source": [
    "# Add element\n",
    "my_list.append(6) # Add 6 at the end\n",
    "print(my_list)\n",
    "\n",
    "my_list.extend([7, 8, 9]) # Add multiple items\n",
    "print(my_list)\n",
    "\n",
    "my_list.insert(6, 99) # Insert 99 at index 6\n",
    "print(my_list)\n",
    "\n",
    "my_list[5] = 100 # Replace the 6th item with 100\n",
    "print(my_list)"
   ]
  },
  {
   "cell_type": "code",
   "execution_count": 5,
   "id": "4ad46394-7bd4-4bb6-bf9e-54661b2dfbcf",
   "metadata": {},
   "outputs": [
    {
     "name": "stdout",
     "output_type": "stream",
     "text": [
      "[1, 2, 3, 4, 5, 99, 6, 7, 8, 9]\n",
      "[1, 2, 3, 4, 5, 99, 6, 7, 8]\n",
      "[1, 2, 3, 4, 5, 6, 7, 8]\n"
     ]
    }
   ],
   "source": [
    "# Remove\n",
    "my_list.remove(100) # Remove first occurence of 100\n",
    "print(my_list)\n",
    "\n",
    "my_list.pop() # Remove the last item\n",
    "print(my_list)\n",
    "\n",
    "my_list.pop(5) # Remove item at index 5\n",
    "print(my_list)"
   ]
  },
  {
   "cell_type": "code",
   "execution_count": 12,
   "id": "b25b1459-9e35-4f7b-ad19-3af76ddcd1a4",
   "metadata": {},
   "outputs": [
    {
     "name": "stdout",
     "output_type": "stream",
     "text": [
      "8\n",
      "8\n",
      "36\n"
     ]
    }
   ],
   "source": [
    "# Operations\n",
    "print(len(my_list)) # Number of items\n",
    "print(max(my_list)) # Maximum value\n",
    "print(sum(my_list)) # Sum of all numbers"
   ]
  },
  {
   "cell_type": "markdown",
   "id": "417646bf-030a-4566-9092-96c8b1d68428",
   "metadata": {},
   "source": [
    "TASK"
   ]
  },
  {
   "cell_type": "code",
   "execution_count": 15,
   "id": "3dc0d871-6617-4953-b4d0-b306b5558f0e",
   "metadata": {},
   "outputs": [
    {
     "name": "stdout",
     "output_type": "stream",
     "text": [
      "['Wash dishes', 'Read a book', 'Go shopping', 'Call mom', 'Do laundary']\n",
      "['Wash dishes', 'Read a book', 'Call mom', 'Do laundary']\n",
      "['Wash dishes', 'Read a book', 'Call mom', 'Do laundary', 'Practice Python']\n"
     ]
    }
   ],
   "source": [
    "# Create a list of 5 tasks\n",
    "tasks = [\"Wash dishes\", \"Read a book\", \"Go shopping\", \"Call mom\", \"Do laundary\"]\n",
    "print(tasks)\n",
    "\n",
    "# Remove the task at position 2 which is the 3rd item\n",
    "tasks.pop(2)\n",
    "print(tasks)\n",
    "\n",
    "# Add another task at the end\n",
    "tasks.append(\"Practice Python\")\n",
    "print(tasks)"
   ]
  },
  {
   "cell_type": "code",
   "execution_count": null,
   "id": "940a9259-f281-445e-b150-1595a146f6de",
   "metadata": {},
   "outputs": [],
   "source": []
  }
 ],
 "metadata": {
  "kernelspec": {
   "display_name": "Python [conda env:base] *",
   "language": "python",
   "name": "conda-base-py"
  },
  "language_info": {
   "codemirror_mode": {
    "name": "ipython",
    "version": 3
   },
   "file_extension": ".py",
   "mimetype": "text/x-python",
   "name": "python",
   "nbconvert_exporter": "python",
   "pygments_lexer": "ipython3",
   "version": "3.11.5"
  }
 },
 "nbformat": 4,
 "nbformat_minor": 5
}
